{
 "cells": [
  {
   "cell_type": "code",
   "execution_count": 116,
   "metadata": {},
   "outputs": [],
   "source": [
    "import warnings\n",
    "warnings.filterwarnings('ignore')\n",
    "import pandas as pd\n",
    "import seaborn as sns\n",
    "from sklearn.ensemble import RandomForestRegressor\n",
    "from sklearn.preprocessing import StandardScaler\n",
    "from sklearn.model_selection import cross_val_score,KFold\n",
    "from xgboost import XGBRegressor\n",
    "import seaborn\n",
    "import numpy as np\n",
    "import matplotlib.pyplot as plt\n",
    "df = pd.read_csv('train.csv')\n",
    "test = pd.read_csv('test.csv')\n",
    "df_full = pd.concat([df, test]).reset_index(drop=True)\n",
    "noncategorial = list(\n",
    "df_full.select_dtypes(include=['float64', 'int64']).columns)\n",
    "categorial = list(df_full.select_dtypes(include=['object']).columns)"
   ]
  },
  {
   "cell_type": "code",
   "execution_count": 117,
   "metadata": {},
   "outputs": [],
   "source": [
    "df_full.loc[(df_full[\"BsmtExposure\"].isna()) & (df_full[\"BsmtCond\"].isna())  & (df_full.BsmtQual.isna())\n",
    "           & (df_full.BsmtFinType1.isna())  & (df_full.BsmtFinType2.isna()) & (df_full.TotalBsmtSF == 0), \n",
    "           ['BsmtExposure','BsmtQual','BsmtCond','BsmtFinType1','BsmtFinType2']] = 'NoBsmt'\n",
    "df_full.BsmtCond.fillna('TA',inplace=True)\n",
    "df_full.BsmtExposure.fillna(df_full[(df_full.BsmtCond == 'TA') \n",
    "                                    & (df_full.BsmtQual == 'Gd')].groupby(['BsmtCond','BsmtQual','BsmtExposure']).size().idxmax(axis=1)[2],inplace=True)\n",
    "df_full.BsmtFinType2.fillna(df_full[(df_full.GarageCond == 'TA') & ( df_full.BsmtQual == 'Gd') \n",
    "        & ( df_full.BsmtFinType1 == 'GLQ')].groupby(['GarageCond','BsmtQual','BsmtFinType1','BsmtFinType2']).size().idxmax()[3],inplace=True)\n",
    "df_full.BsmtFullBath.fillna(0,inplace=True)\n",
    "df_full.BsmtHalfBath.fillna(0,inplace=True)\n",
    "df_full.BsmtQual.fillna(df_full[((df_full.BsmtCond == 'TA') | (df_full.BsmtCond == 'Gd' )) &(df_full.BsmtFinType1 == 'Unf')  \n",
    "        & ( df_full.BsmtFinType2 == 'Unf')].groupby(['BsmtCond','BsmtFinType1','BsmtFinType2','BsmtQual']).size().idxmax()[3]\n",
    "                       ,inplace=True)\n",
    "df_full[\"SalePrice\"] = np.log1p(df_full['SalePrice'])"
   ]
  },
  {
   "cell_type": "code",
   "execution_count": 118,
   "metadata": {},
   "outputs": [],
   "source": [
    "\n",
    "df_full.loc[(df_full[\"GarageCond\"].isna()) & (df_full[\"GarageType\"].isna()), ['GarageFinish','GarageType','GarageCond','GarageQual']] = 'NoGarage'\n",
    "df_full.GarageCond.fillna(df_full[df_full.GarageType == 'Detchd']\n",
    "                                               .groupby(['GarageType', 'GarageCond'])\n",
    "                                               .size()\n",
    "                                               .idxmax(axis=1)[1],inplace=True)\n",
    "df_full.GarageFinish.fillna(df_full[df_full.GarageType == 'Detchd'].groupby(['GarageType','GarageFinish']).size()\n",
    "                            .idxmax(axis=1)[1],inplace=True)\n",
    "df_full.GarageQual.fillna(df_full[df_full.GarageType == 'Detchd']\n",
    "                                   .groupby(['GarageType','GarageQual'])\n",
    "                                    .size()\n",
    "                                    .idxmax(axis=1)[1],inplace=True)\n",
    "df_full.GarageYrBlt.fillna(df_full[df_full.GarageType == 'Detchd']\n",
    "                                     .groupby(['GarageType','GarageYrBlt'])\n",
    "                                     .size()\n",
    "                                     .idxmax(axis=1)[1],inplace=True)\n",
    "df_full.GarageCars.fillna(round(df_full[(df_full.GarageType == 'Detchd') & (df_full.GarageCond == 'TA')].groupby(['GarageType','GarageCond'])['GarageCars'].mean()[0],2),inplace=True)\n",
    "df_full.GarageArea.fillna(df_full[(df_full.GarageType == 'Detchd') & ( df_full.GarageCond == 'TA')]\n",
    "                                                .groupby(['GarageType','GarageCond','GarageArea'])\n",
    "                                                .size()\n",
    "                                                .idxmax(axis=1)[2],inplace=True)"
   ]
  },
  {
   "cell_type": "code",
   "execution_count": 119,
   "metadata": {},
   "outputs": [],
   "source": [
    "df_full.Electrical.fillna(df_full.groupby('Electrical').size().idxmax(),inplace=True)\n",
    "df_full.Exterior1st.fillna(df_full.groupby('Exterior1st').size().idxmax(),inplace=True)\n",
    "df_full.Exterior2nd.fillna(df_full.groupby('Exterior2nd').size().idxmax(),inplace=True)\n",
    "df_full.Functional.fillna(df_full.groupby('Functional').size().idxmax(),inplace=True)\n",
    "df_full.KitchenQual.fillna(df_full.groupby('KitchenQual').size().idxmax(),inplace=True)\n",
    "df_full.MSZoning.fillna('RL',inplace=True)\n",
    "df_full.SaleType.fillna('WD',inplace = True)\n",
    "df_full.Utilities.fillna('AllPub',inplace=True)"
   ]
  },
  {
   "cell_type": "markdown",
   "metadata": {},
   "source": [
    "\n"
   ]
  },
  {
   "cell_type": "code",
   "execution_count": 120,
   "metadata": {},
   "outputs": [],
   "source": [
    "df_full.drop(['Street'], axis=1, inplace=True)\n",
    "df_full.drop(['Fence'], axis=1, inplace=True)\n",
    "df_full.groupby('Alley').size()\n",
    "df_full.Alley.fillna('Grvl',inplace=True)\n",
    "#df_full.Fence.fillna('MnPrv',inplace=True)\n",
    "df_full.groupby('FireplaceQu').size()\n",
    "df_full.FireplaceQu.fillna('Gd',inplace=True)\n",
    "df_full.MiscFeature.fillna(df_full.groupby('MiscFeature').size().idxmax(),inplace=True)\n",
    "df_full.PoolQC.fillna(df_full.groupby('PoolQC').size().idxmax(),inplace=True)\n",
    "df_full.loc[(df_full[\"MasVnrArea\"].isna() & (df_full[\"MasVnrType\"].isna()), 'MasVnrType')] = 'None'\n",
    "df_full.MasVnrArea.fillna(0,inplace=True)\n",
    "df_full.MasVnrType.fillna(df_full['MasVnrType'][(df_full.MasVnrArea >= 100) & (df_full.MasVnrArea <= 150)].value_counts().index[0],inplace=True)\n",
    "#df_full[\"LotFrontage\"] = df_full.groupby(\"Neighborhood\")[\"LotFrontage\"].transform(\n",
    "#    lambda x: x.fillna(x.median()))\n",
    "df_full['MSSubClass'] = df_full['MSSubClass'].apply(str)\n",
    "#Year and month sold are transformed into categorical features.\n",
    "df_full['YrSold'] = df_full['YrSold'].astype(str)\n",
    "df_full['MoSold'] = df_full['MoSold'].astype(str)\n",
    "df_full.YrSold = pd.to_numeric(df_full.YrSold)\n",
    "df_full.GarageYrBlt = pd.to_numeric(df_full.GarageYrBlt)\n",
    "df_full['LotFrontage'] = df_full.groupby('Neighborhood')['LotFrontage'].transform(lambda x: x.fillna(x.median()))\n",
    "#mean = df_full.query('LotConfig == \"CulDSac\" and BldgType ==\"1Fam\"').groupby(['LotConfig','BldgType'])['LotFrontage'].mean()\n",
    "#df_full.LotFrontage = df_full.LotFrontage.fillna(mean.values[0])\n",
    "# df_full.Street.head(2)"
   ]
  },
  {
   "cell_type": "code",
   "execution_count": 121,
   "metadata": {},
   "outputs": [
    {
     "data": {
      "text/plain": [
       "Series([], dtype: int64)"
      ]
     },
     "execution_count": 121,
     "metadata": {},
     "output_type": "execute_result"
    }
   ],
   "source": [
    "objects = [col for col in df_full.columns if df_full[col].dtype == \"object\"]\n",
    "df_full.update(df_full[objects].fillna('None'))\n",
    "numerics = [col for col in df_full.columns if df_full[col].dtype != object]\n",
    "df_full.update(df_full[numerics].fillna(0))\n",
    "f = df_full.isna().sum()\n",
    "f[f>0]"
   ]
  },
  {
   "cell_type": "markdown",
   "metadata": {},
   "source": [
    "Feature engineering "
   ]
  },
  {
   "cell_type": "code",
   "execution_count": 122,
   "metadata": {},
   "outputs": [],
   "source": [
    "#df_full['CondTot'] = (df_full['Condition1'] + df_full['Condition2']) / 2\n",
    "df_full['OverTot'] = df_full['OverallQual'] + df_full['OverallCond']\n",
    "df_full['TotalSF'] = df_full['TotalBsmtSF'] + df_full['1stFlrSF'] + df_full['2ndFlrSF']\n",
    "df_full['haspool'] = df_full['PoolArea'].apply(lambda x: 1 if x > 0 else 0)"
   ]
  },
  {
   "cell_type": "markdown",
   "metadata": {},
   "source": [
    "Добавить в мой файл с фунциями, полезно для работы с skew"
   ]
  },
  {
   "cell_type": "code",
   "execution_count": 123,
   "metadata": {},
   "outputs": [
    {
     "data": {
      "text/plain": [
       "MiscVal          21.947195\n",
       "PoolArea         16.898328\n",
       "haspool          14.884318\n",
       "LotArea          12.822431\n",
       "LowQualFinSF     12.088761\n",
       "3SsnPorch        11.376065\n",
       "KitchenAbvGr      4.302254\n",
       "BsmtFinSF2        4.146143\n",
       "EnclosedPorch     4.003891\n",
       "ScreenPorch       3.946694\n",
       "BsmtHalfBath      3.931594\n",
       "MasVnrArea        2.613592\n",
       "OpenPorchSF       2.535114\n",
       "WoodDeckSF        1.842433\n",
       "TotalSF           1.511479\n",
       "LotFrontage       1.505704\n",
       "1stFlrSF          1.469604\n",
       "BsmtFinSF1        1.425230\n",
       "GrLivArea         1.269358\n",
       "TotalBsmtSF       1.156894\n",
       "BsmtUnfSF         0.919339\n",
       "2ndFlrSF          0.861675\n",
       "TotRmsAbvGrd      0.758367\n",
       "Fireplaces        0.733495\n",
       "HalfBath          0.694566\n",
       "BsmtFullBath      0.624832\n",
       "OverallCond       0.570312\n",
       "dtype: float64"
      ]
     },
     "execution_count": 123,
     "metadata": {},
     "output_type": "execute_result"
    }
   ],
   "source": [
    "from scipy.stats import skew\n",
    "from scipy.special import boxcox1p\n",
    "from scipy.stats import boxcox_normmax,yeojohnson\n",
    "numerics = [col for col in df_full.columns if df_full[col].dtype != object]\n",
    "skew_f = df_full[numerics].apply(lambda x: skew(x)).sort_values(ascending=False)\n",
    "highest_skew =  skew_f[skew_f > 0.5]\n",
    "highest_skew"
   ]
  },
  {
   "cell_type": "code",
   "execution_count": 124,
   "metadata": {},
   "outputs": [],
   "source": [
    "for ind in highest_skew.index: \n",
    "    xt, lmbda = yeojohnson(df_full[ind])\n",
    "    df_full[ind] = xt"
   ]
  },
  {
   "cell_type": "code",
   "execution_count": 125,
   "metadata": {},
   "outputs": [],
   "source": [
    "train = df_full.iloc[:1459]\n",
    "test = df_full.iloc[1460:]\n",
    "train['Sqr'] = train['SalePrice'] / train['LotArea']\n",
    "train['Sqr'] = train.groupby('Neighborhood')['Sqr'].transform(lambda x: x.median())\n",
    "d = {}\n",
    "for indice_fila, x_train in train.iterrows():\n",
    "    d.update({x_train['Neighborhood']:x_train['Sqr']})\n",
    "test['Sqr'] = 0.00\n",
    "for indice, x_test in test.iterrows():\n",
    "    test.loc[test.index == indice ,'Sqr'] = d[x_test['Neighborhood']]\n",
    "df_full['Sqr'] = pd.concat([train.Sqr,test.Sqr])"
   ]
  },
  {
   "cell_type": "code",
   "execution_count": 126,
   "metadata": {},
   "outputs": [],
   "source": [
    "df_full['MSSubClass'] = df_full['MSSubClass'].apply(str)\n",
    "df_full['MoSold'] = df_full['MoSold'].astype(str) \n",
    "final_df_full = pd.get_dummies(df_full).reset_index(drop=True)"
   ]
  },
  {
   "cell_type": "code",
   "execution_count": 127,
   "metadata": {},
   "outputs": [],
   "source": [
    "final_df_full.to_csv('prepared.csv')"
   ]
  },
  {
   "cell_type": "code",
   "execution_count": 128,
   "metadata": {},
   "outputs": [],
   "source": [
    "# n_folds = 5\n",
    "# def rmsle_cv(model):\n",
    "#     kf = KFold(n_folds, shuffle=True, random_state=42).get_n_splits(X_train.values)\n",
    "#     rmse= np.sqrt(-cross_val_score(model, X_train.values, y_train, scoring=\"neg_mean_squared_error\", cv = kf))\n",
    "#     return(rmse)\n",
    "# from sklearn.ensemble import RandomForestRegressor\n",
    "# from sklearn.model_selection import cross_val_score\n",
    "# clf = XGBRegressor(random_state=241)\n",
    "# df = pd.get_dummies(df_full)\n",
    "# X_test = df[df.LotFrontage.isna()].drop(columns = ['LotFrontage','SalePrice'])\n",
    "# X_train  = df[df.LotFrontage.notna()].drop(columns = ['LotFrontage','SalePrice'])\n",
    "# y_train = df['LotFrontage'][df.LotFrontage.notna()]\n",
    "# Id = df['Id'][df.LotFrontage.isna()]\n",
    "# clf.fit(X_train,y_train)\n",
    "# predictions = clf.predict(X_test)"
   ]
  },
  {
   "cell_type": "code",
   "execution_count": 129,
   "metadata": {},
   "outputs": [],
   "source": [
    "# df = pd.DataFrame(Id, columns = ['Id', 'LotFrontage'])\n",
    "# df.LotFrontage = predictions\n",
    "# df = df.set_index('Id')\n",
    "# df_full.LotFrontage.fillna(df.LotFrontage,inplace=True)"
   ]
  }
 ],
 "metadata": {
  "kernelspec": {
   "display_name": "Python 3",
   "language": "python",
   "name": "python3"
  },
  "language_info": {
   "codemirror_mode": {
    "name": "ipython",
    "version": 3
   },
   "file_extension": ".py",
   "mimetype": "text/x-python",
   "name": "python",
   "nbconvert_exporter": "python",
   "pygments_lexer": "ipython3",
   "version": "3.6.9"
  },
  "varInspector": {
   "cols": {
    "lenName": 16,
    "lenType": 16,
    "lenVar": 40
   },
   "kernels_config": {
    "python": {
     "delete_cmd_postfix": "",
     "delete_cmd_prefix": "del ",
     "library": "var_list.py",
     "varRefreshCmd": "print(var_dic_list())"
    },
    "r": {
     "delete_cmd_postfix": ") ",
     "delete_cmd_prefix": "rm(",
     "library": "var_list.r",
     "varRefreshCmd": "cat(var_dic_list()) "
    }
   },
   "types_to_exclude": [
    "module",
    "function",
    "builtin_function_or_method",
    "instance",
    "_Feature"
   ],
   "window_display": false
  }
 },
 "nbformat": 4,
 "nbformat_minor": 2
}
