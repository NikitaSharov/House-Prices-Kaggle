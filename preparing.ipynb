{
 "cells": [
  {
   "cell_type": "code",
   "execution_count": 87,
   "metadata": {},
   "outputs": [],
   "source": [
    "import warnings\n",
    "warnings.filterwarnings('ignore')\n",
    "import pandas as pd\n",
    "import seaborn as sns\n",
    "from sklearn.ensemble import RandomForestRegressor\n",
    "from sklearn.preprocessing import StandardScaler\n",
    "from sklearn.model_selection import cross_val_score,KFold\n",
    "from xgboost import XGBRegressor\n",
    "import seaborn\n",
    "import numpy as np\n",
    "import matplotlib.pyplot as plt\n",
    "df = pd.read_csv('train.csv')\n",
    "test = pd.read_csv('test.csv')\n",
    "y = train.SalePrice.reset_index(drop=True)\n",
    "df_full = pd.concat([df, test]).reset_index(drop=True)\n",
    "noncategorial = list(\n",
    "df_full.select_dtypes(include=['float64', 'int64']).columns)\n",
    "categorial = list(df_full.select_dtypes(include=['object']).columns)"
   ]
  },
  {
   "cell_type": "code",
   "execution_count": 88,
   "metadata": {},
   "outputs": [],
   "source": [
    "df_full['Exterior1st'] = df_full['Exterior1st'].fillna(df_full['Exterior1st'].mode()[0])\n",
    "df_full['LotFrontage'] = df_full.groupby('Neighborhood')['LotFrontage'].transform(lambda x: x.fillna(x.median()))\n",
    "df_full['MSZoning'] = df_full.groupby('MSSubClass')['MSZoning'].transform(lambda x: x.fillna(x.mode()[0]))\n",
    "df_full[\"SalePrice\"] = np.log1p(df_full['SalePrice'])"
   ]
  },
  {
   "cell_type": "code",
   "execution_count": 89,
   "metadata": {},
   "outputs": [],
   "source": [
    "objects = []\n",
    "for i in df_full.columns:\n",
    "    if df_full[i].dtype == object:\n",
    "        objects.append(i)\n",
    "\n",
    "df_full.update(df_full[objects].fillna('None'))\n",
    "\n",
    "df_full['LotFrontage'] = df_full.groupby('Neighborhood')['LotFrontage'].transform(lambda x: x.fillna(x.median()))\n",
    "\n",
    "# Filling in the rest of the NA's\n",
    "\n",
    "numeric_dtypes = ['int16', 'int32', 'int64', 'float16', 'float32', 'float64']\n",
    "numerics = []\n",
    "for i in df_full.columns:\n",
    "    if df_full[i].dtype in numeric_dtypes:\n",
    "        numerics.append(i)\n",
    "df_full.update(df_full[numerics].fillna(0))"
   ]
  },
  {
   "cell_type": "code",
   "execution_count": 90,
   "metadata": {},
   "outputs": [],
   "source": [
    "#df_full['CondTot'] = (df_full['Condition1'] + df_full['Condition2']) / 2\n",
    "df_full['OverTot'] = df_full['OverallQual'] + df_full['OverallCond']\n",
    "df_full['TotalSF'] = df_full['TotalBsmtSF'] + df_full['1stFlrSF'] + df_full['2ndFlrSF']\n",
    "df_full['haspool'] = df_full['PoolArea'].apply(lambda x: 1 if x > 0 else 0)\n",
    "df_full['has2ndfloor'] = df_full['2ndFlrSF'].apply(lambda x: 1 if x > 0 else 0)\n",
    "df_full['hasgarage'] = df_full['GarageArea'].apply(lambda x: 1 if x > 0 else 0)\n",
    "df_full['hasbsmt'] = df_full['TotalBsmtSF'].apply(lambda x: 1 if x > 0 else 0)\n",
    "df_full['hasfireplace'] = df_full['Fireplaces'].apply(lambda x: 1 if x > 0 else 0)"
   ]
  },
  {
   "cell_type": "code",
   "execution_count": 91,
   "metadata": {},
   "outputs": [],
   "source": [
    "from scipy.stats import skew\n",
    "from scipy.special import boxcox1p\n",
    "from scipy.stats import boxcox_normmax,yeojohnson\n",
    "numerics = [col for col in df_full.columns if df_full[col].dtype != object]\n",
    "skew_f = df_full[numerics].apply(lambda x: skew(x)).sort_values(ascending=False)\n",
    "highest_skew =  skew_f[skew_f > 0.5]\n",
    "for i in highest_skew.index:\n",
    "    df_full[i] = boxcox1p(df_full[i], boxcox_normmax(df_full[i] + 1))"
   ]
  },
  {
   "cell_type": "markdown",
   "metadata": {},
   "source": [
    "\n"
   ]
  },
  {
   "cell_type": "code",
   "execution_count": 92,
   "metadata": {},
   "outputs": [],
   "source": [
    "df_full['YrBltAndRemod']=df_full['YearBuilt']+df_full['YearRemodAdd']\n",
    "df_full['Total_sqr_footage'] = (df_full['BsmtFinSF1'] + df_full['BsmtFinSF2'] +\n",
    "                                 df_full['1stFlrSF'] + df_full['2ndFlrSF'])\n",
    "df_full['Total_Bathrooms'] = (df_full['FullBath'] + (0.5 * df_full['HalfBath']) +\n",
    "                               df_full['BsmtFullBath'] + (0.5 * df_full['BsmtHalfBath']))\n",
    "df_full['Total_porch_sf'] = (df_full['OpenPorchSF'] + df_full['3SsnPorch'] +\n",
    "                              df_full['EnclosedPorch'] + df_full['ScreenPorch'] +\n",
    "                              df_full['WoodDeckSF'])"
   ]
  },
  {
   "cell_type": "code",
   "execution_count": 93,
   "metadata": {},
   "outputs": [],
   "source": [
    "# train = df_full.iloc[:1459]\n",
    "# test = df_full.iloc[1460:]\n",
    "# train['Sqr'] = train['SalePrice'] / train['LotArea']\n",
    "# train['Sqr'] = train.groupby('Neighborhood')['Sqr'].transform(lambda x: x.median())\n",
    "# d = {}\n",
    "# for indice_fila, x_train in train.iterrows():\n",
    "#     d.update({x_train['Neighborhood']:x_train['Sqr']})\n",
    "# test['Sqr'] = 0.00\n",
    "# for indice, x_test in test.iterrows():\n",
    "#     test.loc[test.index == indice ,'Sqr'] = d[x_test['Neighborhood']]\n",
    "# df_full['Sqr'] = pd.concat([train.Sqr,test.Sqr])"
   ]
  },
  {
   "cell_type": "code",
   "execution_count": 94,
   "metadata": {},
   "outputs": [],
   "source": [
    "df_full['MSSubClass'] = df_full['MSSubClass'].apply(str)\n",
    "df_full['MoSold'] = df_full['MoSold'].astype(str) \n",
    "df_full = pd.get_dummies(df_full).reset_index(drop=True)"
   ]
  },
  {
   "cell_type": "code",
   "execution_count": 95,
   "metadata": {},
   "outputs": [],
   "source": [
    "outliers = [30, 88, 462, 631, 1322]\n",
    "df_full = df_full.drop(df_full.index[outliers])\n",
    "overfit = []\n",
    "for i in df_full.columns:\n",
    "    counts = df_full[i].value_counts()\n",
    "    zeros = counts.iloc[0]\n",
    "    if zeros / len(df_full) * 100 > 99.94:\n",
    "        overfit.append(i)\n",
    "\n",
    "overfit = list(overfit)\n",
    "#overfit.append('MSZoning_C (all)')\n",
    "\n",
    "df_full = df_full.drop(overfit, axis=1).copy()\n",
    "X = df_full.iloc[:len(y), :]\n",
    "X_sub = df_full.iloc[len(X):, :]\n",
    "#f = X.isna().sum()"
   ]
  },
  {
   "cell_type": "code",
   "execution_count": 96,
   "metadata": {},
   "outputs": [
    {
     "data": {
      "text/plain": [
       "array([0.41371807, 0.4558529 , 0.45494386, 0.42854402, 0.46786576])"
      ]
     },
     "execution_count": 96,
     "metadata": {},
     "output_type": "execute_result"
    }
   ],
   "source": [
    "from sklearn.linear_model import Ridge\n",
    "clf = Ridge()\n",
    "score = rmsle_cv(clf)\n",
    "score\n"
   ]
  },
  {
   "cell_type": "code",
   "execution_count": 72,
   "metadata": {},
   "outputs": [],
   "source": [
    "from sklearn.model_selection import KFold,cross_val_score\n",
    "n_folds = 5\n",
    "def rmsle_cv(model):\n",
    "    kf = KFold(n_folds, shuffle=True, random_state=42).get_n_splits(X.values)\n",
    "    rmse= np.sqrt(-cross_val_score(model, X.values, y, scoring=\"neg_mean_squared_error\", cv = kf))\n",
    "    return(rmse)"
   ]
  },
  {
   "cell_type": "code",
   "execution_count": 23,
   "metadata": {},
   "outputs": [],
   "source": [
    "final_df_full.to_csv('prepared.csv',index=False)"
   ]
  }
 ],
 "metadata": {
  "kernelspec": {
   "display_name": "Python 3",
   "language": "python",
   "name": "python3"
  },
  "language_info": {
   "codemirror_mode": {
    "name": "ipython",
    "version": 3
   },
   "file_extension": ".py",
   "mimetype": "text/x-python",
   "name": "python",
   "nbconvert_exporter": "python",
   "pygments_lexer": "ipython3",
   "version": "3.6.9"
  },
  "varInspector": {
   "cols": {
    "lenName": 16,
    "lenType": 16,
    "lenVar": 40
   },
   "kernels_config": {
    "python": {
     "delete_cmd_postfix": "",
     "delete_cmd_prefix": "del ",
     "library": "var_list.py",
     "varRefreshCmd": "print(var_dic_list())"
    },
    "r": {
     "delete_cmd_postfix": ") ",
     "delete_cmd_prefix": "rm(",
     "library": "var_list.r",
     "varRefreshCmd": "cat(var_dic_list()) "
    }
   },
   "types_to_exclude": [
    "module",
    "function",
    "builtin_function_or_method",
    "instance",
    "_Feature"
   ],
   "window_display": false
  }
 },
 "nbformat": 4,
 "nbformat_minor": 2
}
